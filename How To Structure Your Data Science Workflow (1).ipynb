{
 "cells": [
  {
   "cell_type": "markdown",
   "id": "e0466801",
   "metadata": {},
   "source": [
    "# How To Structure Your Data Science Workflow"
   ]
  },
  {
   "cell_type": "markdown",
   "id": "82a5a838",
   "metadata": {},
   "source": [
    "###### 6 steps to approaching any data science problem with examples"
   ]
  },
  {
   "cell_type": "markdown",
   "id": "d329e829",
   "metadata": {},
   "source": [
    "There are no fixed frameworks of defined templates for solving data science problems. The strategy changes with every new problem or project. But the steps applied to solve problems are almost similar to many different problem statements. \n",
    "This is the high-level data science workflow phases for all types of problem statement which is used widely in the market. \n",
    "\n",
    "Frequently, there is a need to circle back to prior steps, such as when inspecting and preparing the data, or when evaluating and modeling, but the process at a high level can be as described in the preceding list.\n",
    "\n",
    "\n",
    "In this article, I'll be explaining 6 data science workflow steps given below:\n",
    "1. Acquisition \n",
    "2. Inspection\n",
    "3. Preparation\n",
    "4. Modeling\n",
    "5. Evaluation\n",
    "6. Deployment\n",
    "\n",
    "\n",
    "##### Step 1: Acquisition\n",
    "The process of training machine learning algorithms is a little like teaching a toddler an object's name for the first time, then allowing them to identify it alone when next they see it. But human beings only need a few examples to recognize a new object. That is not so for a machine, as it needs hundreds or thousands of similar examples to become familiar with an object. And these examples or training objects need to come in form of data. A dedicated machine learning algorithm then runs through that set of data called a training set and learns more about it to become more accurate. That means to train a machine learning algorithm and get the right result, it is necessary to get adequate data.\n",
    "\n",
    "Therfore, a large part of the success of your project depends on the quality of the data you acquire, as well as your handling of that data. Now here comes the question, where do you collect data for any project you want to embark on? And the answer is data can come from any number of sources; you can collect pre-existing datasets from official sources, you can import data from a database, you can scrape data directly from a Web Page, you can collect data via social media outlets like Facebook, LinkedIn, Instagram and Twitter, and you can also leverage online forms for data collection. There are many other sources and your data collection method depends on your data science project.\n",
    "\n",
    "Data can also exist in any number of formats. It can be structured or unstructured. \n",
    "Structured data -\n",
    "Unstructured data - \n",
    "\n",
    "##### Step 2: Inspection\n",
    "Now that you have acquired the data to be used it, the next step is to inspect it. The primary goal at this stage is to sanity check the data, and the best way to accomplish this is to look for things that are either impossible or highly unlikely. As an example, if the data has a unique identifier, check to see that there is indeed only one; if the data is price-based, check that it is always positive; and whatever the data type, check the most extreme cases. Do they make sense? A good practice is to run some simple statistical tests on the data, and visualize it. The outcome of your models is only as good as the data you put in, so it is crucial to get this step right.\n",
    "\n",
    "##### Step 3: Preparation\n",
    "When you are confident you have your data in order, next you will need to prepare it by placing it in a format that is amenable to modeling. This stage encompasses a number of processes, such as filtering, aggregating, imputing, and transforming. The type of actions you need to take will be highly dependent on the type of data you're working with, as well as the libraries and algorithms you will be utilizing. \n",
    "\n",
    "\n",
    "##### Step 4: Modeling\n",
    "Once the data preparation is complete, the next phase is modeling. Selecting an appropriate algorithm will depend on the type of data. For example, if the data is continuous you will apply regression modelling, if the data is categorical you will apply classification or logistics regression modelling. \n",
    "As a data scientist, you will try lots of models to get the best fitted model\n",
    "\n",
    "Here, you will be selecting an appropriate algorithm and using the data to train your model. There are a number of best practices to adhere to during this stage, and we will discuss them in detail, but the basic steps involve splitting your data into training, testing, and validation sets. This splitting up of the data may seem illogical—especially when more data typically yields better models—but as we'll see, doing this allows us to get better feedback on how the model will perform in the real world, and prevents us from the cardinal sin of modeling: overfitting. We will talk more about this in later chapters.\n",
    "\n",
    "##### Step 5: Evaluation \n",
    "The evaluation stage seeks to answer the question - how good is this model? After building the model we need to measure its performance. The good news is there are a number of ways to do that, and again this step is largely dependent on the type of data you are working with and the type of model used, but on the whole, we are seeking to answer the question of how close the model's predictions are to the actual value.\n",
    "(There are various ways to measure the performance of a model, There is an array of confusing sounding terms, such as root mean-square error, or Euclidean distance, or F1 score. But in the end, they are all just a measure of distance between the actual prediction and the estimated prediction.)\n",
    "\n",
    "\n",
    "##### Step 6: Deployment\n",
    "Working with data is one thing, but deploying a machine learning model to production is another. Once you are comfortable with the performance of your model, you'll want to deploy it so it can reach the intended audience. This can take a number of forms depending on the use case, but common scenarios include utilization as a feature within another larger application, (a bespoke web application, or even just a simple cron job."
   ]
  },
  {
   "cell_type": "markdown",
   "id": "b6cc43d8",
   "metadata": {},
   "source": [
    "#### Case Study\n",
    "\n",
    "In this article, I'll be using the famous flower dataset which was introduced in 1936 to build a Multi-Class Classifier Model Using Support Vector Machine with Python and deploying the model using Streamlit - an open-source framework use by Machine Learning and Data Science teams to create beautiful Web Apps in minutes."
   ]
  },
  {
   "cell_type": "markdown",
   "id": "ca9d753c",
   "metadata": {},
   "source": [
    "#### Acquisition\n",
    "The first step is to import your data to the platform you want to use to do your analysis or build your model. And as stated above, I will be using the Iris dataset taken from Sir R.A. Fisher Paper for patternn recognition literature. It is also known as Anderson's Iris data set as Edge Anderson originally collected the data to quantify the variation of Iris flowers of there different class. These class are class Iris-Setosa, Iris-Versicolour, and Iris-Virginica with attributes as Sepal Length, Sepal Width, Petal Length and Petal Width in centimeters. We will be importing the data from the ... website and storing it in a dataframe. "
   ]
  },
  {
   "cell_type": "code",
   "execution_count": 3,
   "id": "e91624d6",
   "metadata": {},
   "outputs": [],
   "source": [
    "import pandas as pd\n",
    "# url = 'https://archive.ics.uci.edu/ml/machine-learning-databases/iris/iris.data'\n",
    "# iris = pd.read_csv(csv_url, header = None)\n",
    "# col_names = ['Sepal_Length','Sepal_Width','Petal_Length','Petal_Width','Species']\n",
    "# iris =  pd.read_csv(csv_url, names = col_names)"
   ]
  },
  {
   "cell_type": "markdown",
   "id": "a588e978",
   "metadata": {},
   "source": [
    "#### Inspection\n",
    "\n",
    "The next step is inspection. "
   ]
  },
  {
   "cell_type": "markdown",
   "id": "278db0a1",
   "metadata": {},
   "source": [
    "Let's look at the shape of the dataset."
   ]
  },
  {
   "cell_type": "code",
   "execution_count": 5,
   "id": "753613a4",
   "metadata": {},
   "outputs": [
    {
     "data": {
      "text/plain": [
       "(150, 5)"
      ]
     },
     "execution_count": 5,
     "metadata": {},
     "output_type": "execute_result"
    }
   ],
   "source": [
    "print(iris_df.shape)"
   ]
  },
  {
   "cell_type": "markdown",
   "id": "d6fb4542",
   "metadata": {},
   "source": [
    "The dataset has 150 rows and 5 columns."
   ]
  },
  {
   "cell_type": "markdown",
   "id": "0caa5368",
   "metadata": {},
   "source": [
    "Next, let's display basic information about the dataset."
   ]
  },
  {
   "cell_type": "code",
   "execution_count": 5,
   "id": "f36cb604",
   "metadata": {},
   "outputs": [
    {
     "name": "stdout",
     "output_type": "stream",
     "text": [
      "<class 'pandas.core.frame.DataFrame'>\n",
      "RangeIndex: 150 entries, 0 to 149\n",
      "Data columns (total 5 columns):\n",
      " #   Column        Non-Null Count  Dtype  \n",
      "---  ------        --------------  -----  \n",
      " 0   Sepal_Length  150 non-null    float64\n",
      " 1   Sepal_Width   150 non-null    float64\n",
      " 2   Petal_Length  150 non-null    float64\n",
      " 3   Petal_Width   150 non-null    float64\n",
      " 4   Species       150 non-null    object \n",
      "dtypes: float64(4), object(1)\n",
      "memory usage: 6.0+ KB\n"
     ]
    }
   ],
   "source": [
    "iris_df.info()"
   ]
  },
  {
   "cell_type": "markdown",
   "id": "d56c52af",
   "metadata": {},
   "source": [
    "The dataaset has no null values, right data types etc"
   ]
  },
  {
   "cell_type": "markdown",
   "id": "1800fb0f",
   "metadata": {},
   "source": [
    "Now, let's check the number of samples of each Iris flower specie in our dataset."
   ]
  },
  {
   "cell_type": "code",
   "execution_count": 6,
   "id": "466a0a36",
   "metadata": {},
   "outputs": [
    {
     "data": {
      "text/plain": [
       "Iris-setosa        50\n",
       "Iris-versicolor    50\n",
       "Iris-virginica     50\n",
       "Name: Species, dtype: int64"
      ]
     },
     "execution_count": 6,
     "metadata": {},
     "output_type": "execute_result"
    }
   ],
   "source": [
    "iris_df[\"Species\"].value_counts()"
   ]
  },
  {
   "cell_type": "markdown",
   "id": "8502a179",
   "metadata": {},
   "source": [
    "As we can the dataset contains 3 classes of 50 instances each, where each class refers to a type of iris plant."
   ]
  },
  {
   "cell_type": "markdown",
   "id": "05bf28bd",
   "metadata": {},
   "source": [
    "Let's display statistics of the data"
   ]
  },
  {
   "cell_type": "code",
   "execution_count": 7,
   "id": "0b6e4573",
   "metadata": {},
   "outputs": [
    {
     "data": {
      "text/html": [
       "<div>\n",
       "<style scoped>\n",
       "    .dataframe tbody tr th:only-of-type {\n",
       "        vertical-align: middle;\n",
       "    }\n",
       "\n",
       "    .dataframe tbody tr th {\n",
       "        vertical-align: top;\n",
       "    }\n",
       "\n",
       "    .dataframe thead th {\n",
       "        text-align: right;\n",
       "    }\n",
       "</style>\n",
       "<table border=\"1\" class=\"dataframe\">\n",
       "  <thead>\n",
       "    <tr style=\"text-align: right;\">\n",
       "      <th></th>\n",
       "      <th>Sepal_Length</th>\n",
       "      <th>Sepal_Width</th>\n",
       "      <th>Petal_Length</th>\n",
       "      <th>Petal_Width</th>\n",
       "    </tr>\n",
       "  </thead>\n",
       "  <tbody>\n",
       "    <tr>\n",
       "      <th>count</th>\n",
       "      <td>150.000000</td>\n",
       "      <td>150.000000</td>\n",
       "      <td>150.000000</td>\n",
       "      <td>150.000000</td>\n",
       "    </tr>\n",
       "    <tr>\n",
       "      <th>mean</th>\n",
       "      <td>5.843333</td>\n",
       "      <td>3.054000</td>\n",
       "      <td>3.758667</td>\n",
       "      <td>1.198667</td>\n",
       "    </tr>\n",
       "    <tr>\n",
       "      <th>std</th>\n",
       "      <td>0.828066</td>\n",
       "      <td>0.433594</td>\n",
       "      <td>1.764420</td>\n",
       "      <td>0.763161</td>\n",
       "    </tr>\n",
       "    <tr>\n",
       "      <th>min</th>\n",
       "      <td>4.300000</td>\n",
       "      <td>2.000000</td>\n",
       "      <td>1.000000</td>\n",
       "      <td>0.100000</td>\n",
       "    </tr>\n",
       "    <tr>\n",
       "      <th>25%</th>\n",
       "      <td>5.100000</td>\n",
       "      <td>2.800000</td>\n",
       "      <td>1.600000</td>\n",
       "      <td>0.300000</td>\n",
       "    </tr>\n",
       "    <tr>\n",
       "      <th>50%</th>\n",
       "      <td>5.800000</td>\n",
       "      <td>3.000000</td>\n",
       "      <td>4.350000</td>\n",
       "      <td>1.300000</td>\n",
       "    </tr>\n",
       "    <tr>\n",
       "      <th>75%</th>\n",
       "      <td>6.400000</td>\n",
       "      <td>3.300000</td>\n",
       "      <td>5.100000</td>\n",
       "      <td>1.800000</td>\n",
       "    </tr>\n",
       "    <tr>\n",
       "      <th>max</th>\n",
       "      <td>7.900000</td>\n",
       "      <td>4.400000</td>\n",
       "      <td>6.900000</td>\n",
       "      <td>2.500000</td>\n",
       "    </tr>\n",
       "  </tbody>\n",
       "</table>\n",
       "</div>"
      ],
      "text/plain": [
       "       Sepal_Length  Sepal_Width  Petal_Length  Petal_Width\n",
       "count    150.000000   150.000000    150.000000   150.000000\n",
       "mean       5.843333     3.054000      3.758667     1.198667\n",
       "std        0.828066     0.433594      1.764420     0.763161\n",
       "min        4.300000     2.000000      1.000000     0.100000\n",
       "25%        5.100000     2.800000      1.600000     0.300000\n",
       "50%        5.800000     3.000000      4.350000     1.300000\n",
       "75%        6.400000     3.300000      5.100000     1.800000\n",
       "max        7.900000     4.400000      6.900000     2.500000"
      ]
     },
     "execution_count": 7,
     "metadata": {},
     "output_type": "execute_result"
    }
   ],
   "source": [
    "# to display stats about data\n",
    "iris_df.describe()"
   ]
  },
  {
   "cell_type": "code",
   "execution_count": 3,
   "id": "6cf48817",
   "metadata": {},
   "outputs": [],
   "source": [
    "\n",
    "from sklearn import metrics\n",
    "\n",
    "from sklearn.metrics import accuracy_score, confusion_matrix\n",
    "from sklearn.model_selection import cross_val_score, train_test_split\n",
    "from sklearn.model_selection import GridSearchCV\n",
    "\n",
    "# To ignore any warnings\n",
    "import warnings\n",
    "warnings.filterwarnings(\"ignore\")"
   ]
  },
  {
   "cell_type": "markdown",
   "id": "4afcddbc",
   "metadata": {},
   "source": [
    "The table below explains each variable:"
   ]
  },
  {
   "cell_type": "markdown",
   "id": "ca7c151f",
   "metadata": {},
   "source": [
    "#### Exploratory Data Analysis"
   ]
  },
  {
   "cell_type": "markdown",
   "id": "bb833a36",
   "metadata": {},
   "source": [
    "Now that we have imported the data to (jupyter notebook), let us check the dataframe. Whenever you work with new data, it's important to understand what the data contains, what the variables mean, what units and data types are being used, and what the distributions look like. Depending on th, we c"
   ]
  },
  {
   "cell_type": "markdown",
   "id": "fd134321",
   "metadata": {},
   "source": [
    "\n",
    "This will help you develop an intuition for the data and make it easier to generate hypotheses, which also makes the solution easier to find."
   ]
  },
  {
   "cell_type": "code",
   "execution_count": 6,
   "id": "924fe135",
   "metadata": {},
   "outputs": [
    {
     "data": {
      "image/png": "[encoded data removed]",
      "text/plain": [
       "<Figure size 864x576 with 4 Axes>"
      ]
     },
     "metadata": {},
     "output_type": "display_data"
    }
   ],
   "source": [
    "import matplotlib.pyplot as plt\n",
    "\n",
    "iris_df.hist(edgecolor = 'red', linewidth = 1.2)\n",
    "fig = plt.gcf()\n",
    "fig.set_size_inches(12, 8)\n",
    "plt.show()"
   ]
  },
  {
   "cell_type": "markdown",
   "id": "9cef33ec",
   "metadata": {},
   "source": [
    "We can see that apart from the Sepal Width feature, other features are not normally distributed."
   ]
  },
  {
   "cell_type": "code",
   "execution_count": 8,
   "id": "663eebeb",
   "metadata": {},
   "outputs": [
    {
     "data": {
      "text/plain": [
       "<matplotlib.legend.Legend at 0x1a3f501a580>"
      ]
     },
     "execution_count": 8,
     "metadata": {},
     "output_type": "execute_result"
    },
    {
     "data": {
      "image/png": "[encoded data removed]",
      "text/plain": [
       "<Figure size 1008x1080 with 4 Axes>"
      ]
     },
     "metadata": {},
     "output_type": "display_data"
    }
   ],
   "source": [
    "# scatter plot\n",
    "\n",
    "colors = ['red', 'orange', 'blue']\n",
    "species = ['Iris-virginica', 'Iris-versicolor', 'Iris-setosa']\n",
    "\n",
    "plt.figure(figsize = (14, 15)) \n",
    "plt.subplot(221)\n",
    "\n",
    "for i in range(3):\n",
    "    x = iris_df[iris_df['Species'] == species[i]]\n",
    "    plt.scatter(x['Sepal_Length'], x['Sepal_Width'], c = colors[i], label = species[i])\n",
    "plt.xlabel(\"Sepal Length\")\n",
    "plt.ylabel(\"Sepal Width\")\n",
    "plt.legend()\n",
    "\n",
    "plt.subplot(222)\n",
    "for i in range(3):\n",
    "    x = iris_df[iris_df['Species'] == species[i]]\n",
    "    plt.scatter(x['Petal_Length'], x['Petal_Width'], c = colors[i], label = species[i])\n",
    "plt.xlabel(\"Petal Length\")\n",
    "plt.ylabel(\"Petal Width\")\n",
    "plt.legend()\n",
    "\n",
    "plt.subplot(223)\n",
    "for i in range(3):\n",
    "    x = iris_df[iris_df['Species'] == species[i]]\n",
    "    plt.scatter(x['Sepal_Length'], x['Petal_Length'], c = colors[i], label = species[i])\n",
    "plt.xlabel(\"Sepal Length\")\n",
    "plt.ylabel(\"Petal Length\")\n",
    "plt.legend()\n",
    "\n",
    "plt.subplot(224)\n",
    "for i in range(3):\n",
    "    x = iris_df[iris_df['Species'] == species[i]]\n",
    "    plt.scatter(x['Sepal_Width'], x['Petal_Width'], c = colors[i], label = species[i])\n",
    "plt.xlabel(\"Sepal Width\")\n",
    "plt.ylabel(\"Petal Width\")\n",
    "plt.legend()"
   ]
  },
  {
   "cell_type": "markdown",
   "id": "e1f30858",
   "metadata": {},
   "source": [
    "As we can observe, the class - Iris-Setosa is linearly separable from the other 2; while the other 2 classes - Iris Virginica and Iris-Versicolor are not linearly separable from ech other. "
   ]
  },
  {
   "cell_type": "markdown",
   "id": "96985b2b",
   "metadata": {},
   "source": [
    "Let's display a heatmap of the correlation matrix - a table showing correlation between variables.. "
   ]
  },
  {
   "cell_type": "code",
   "execution_count": 22,
   "id": "f5a9c1f6",
   "metadata": {},
   "outputs": [
    {
     "data": {
      "text/plain": [
       "<AxesSubplot:>"
      ]
     },
     "execution_count": 22,
     "metadata": {},
     "output_type": "execute_result"
    },
    {
     "data": {
      "image/png": "[encoded data removed]",
      "text/plain": [
       "<Figure size 1080x432 with 2 Axes>"
      ]
     },
     "metadata": {},
     "output_type": "display_data"
    }
   ],
   "source": [
    "corr = iris_df_1.corr()\n",
    "fig, ax = plt.subplots(figsize = (15, 6))\n",
    "sns.heatmap(corr, annot = True, cmap = \"coolwarm\")"
   ]
  },
  {
   "cell_type": "code",
   "execution_count": null,
   "id": "0324a3d9",
   "metadata": {},
   "outputs": [],
   "source": []
  },
  {
   "cell_type": "markdown",
   "id": "2167a099",
   "metadata": {},
   "source": [
    "## Preparation"
   ]
  },
  {
   "cell_type": "markdown",
   "id": "6dd111b8",
   "metadata": {},
   "source": [
    "## Cleaning and Preprocessing your data"
   ]
  },
  {
   "cell_type": "markdown",
   "id": "a6d86742",
   "metadata": {},
   "source": [
    "Data cleaning involves checking that the data types are correct, checking that the values are in the correct format. This"
   ]
  },
  {
   "cell_type": "markdown",
   "id": "4276d6fe",
   "metadata": {},
   "source": [
    "Here I will use pandas to check for null values with the .isna() method. Missing data or null values produce a \"NA\" code. If numerical data is expected, it produces a \"NaN\" meaning \"Not a Number\"."
   ]
  },
  {
   "cell_type": "code",
   "execution_count": null,
   "id": "4a592e75",
   "metadata": {},
   "outputs": [],
   "source": []
  },
  {
   "cell_type": "markdown",
   "id": "2ae0e430",
   "metadata": {},
   "source": [
    "The iris dataset doesn't have any missing values in it. "
   ]
  },
  {
   "cell_type": "markdown",
   "id": "ac1be618",
   "metadata": {},
   "source": [
    "There is no single way to do preprocessing. It will depend on your data"
   ]
  },
  {
   "cell_type": "markdown",
   "id": "47e9d669",
   "metadata": {},
   "source": [
    "#### Label Encoder\n",
    "In machine learning, we usually deal with datasets which contains multiple labels in one or more than one columns. These labels can be in the form of words or numbers. Label Encoding refers to converting the labels into numeric form so as to convert it into the machine-readable form."
   ]
  },
  {
   "cell_type": "code",
   "execution_count": 18,
   "id": "1fc6f5a4",
   "metadata": {},
   "outputs": [],
   "source": [
    "from sklearn.preprocessing import LabelEncoder\n",
    "le = LabelEncoder()\n",
    "\n",
    "Species = le.fit_transform(iris_df['Species'])"
   ]
  },
  {
   "cell_type": "code",
   "execution_count": 19,
   "id": "8cb99384",
   "metadata": {},
   "outputs": [
    {
     "data": {
      "text/plain": [
       "array(['Iris-setosa', 'Iris-versicolor', 'Iris-virginica'], dtype=object)"
      ]
     },
     "execution_count": 19,
     "metadata": {},
     "output_type": "execute_result"
    }
   ],
   "source": [
    "le.classes_"
   ]
  },
  {
   "cell_type": "code",
   "execution_count": 20,
   "id": "49da5519",
   "metadata": {},
   "outputs": [],
   "source": [
    "iris_df = iris_df.drop(columns = [\"Species\"])"
   ]
  },
  {
   "cell_type": "markdown",
   "id": "4b7a1ada",
   "metadata": {},
   "source": [
    "#### Scaling"
   ]
  },
  {
   "cell_type": "code",
   "execution_count": 21,
   "id": "0dd96177",
   "metadata": {},
   "outputs": [
    {
     "data": {
      "text/html": [
       "<div>\n",
       "<style scoped>\n",
       "    .dataframe tbody tr th:only-of-type {\n",
       "        vertical-align: middle;\n",
       "    }\n",
       "\n",
       "    .dataframe tbody tr th {\n",
       "        vertical-align: top;\n",
       "    }\n",
       "\n",
       "    .dataframe thead th {\n",
       "        text-align: right;\n",
       "    }\n",
       "</style>\n",
       "<table border=\"1\" class=\"dataframe\">\n",
       "  <thead>\n",
       "    <tr style=\"text-align: right;\">\n",
       "      <th></th>\n",
       "      <th>Sepal_Length</th>\n",
       "      <th>Sepal_Width</th>\n",
       "      <th>Petal_Length</th>\n",
       "      <th>Petal_Width</th>\n",
       "    </tr>\n",
       "  </thead>\n",
       "  <tbody>\n",
       "    <tr>\n",
       "      <th>0</th>\n",
       "      <td>-0.900681</td>\n",
       "      <td>1.032057</td>\n",
       "      <td>-1.341272</td>\n",
       "      <td>-1.312977</td>\n",
       "    </tr>\n",
       "    <tr>\n",
       "      <th>1</th>\n",
       "      <td>-1.143017</td>\n",
       "      <td>-0.124958</td>\n",
       "      <td>-1.341272</td>\n",
       "      <td>-1.312977</td>\n",
       "    </tr>\n",
       "  </tbody>\n",
       "</table>\n",
       "</div>"
      ],
      "text/plain": [
       "   Sepal_Length  Sepal_Width  Petal_Length  Petal_Width\n",
       "0     -0.900681     1.032057     -1.341272    -1.312977\n",
       "1     -1.143017    -0.124958     -1.341272    -1.312977"
      ]
     },
     "execution_count": 21,
     "metadata": {},
     "output_type": "execute_result"
    }
   ],
   "source": [
    "# scale data\n",
    "\n",
    "from sklearn.preprocessing import StandardScaler\n",
    "\n",
    "iris_df = iris_df.copy()\n",
    "scaler = StandardScaler()\n",
    "scaled = scaler.fit_transform(iris_df)\n",
    "\n",
    "iris_df_1 = pd.DataFrame(scaled, index = iris_df.index, columns = iris_df.columns)\n",
    "iris_df_1.head(2)"
   ]
  },
  {
   "cell_type": "markdown",
   "id": "4a095922",
   "metadata": {},
   "source": [
    "#### Modelling"
   ]
  },
  {
   "cell_type": "code",
   "execution_count": 24,
   "id": "0c8541aa",
   "metadata": {},
   "outputs": [],
   "source": [
    "X = iris_df_1.copy()\n",
    "y = Species"
   ]
  },
  {
   "cell_type": "markdown",
   "id": "8ea2aab8",
   "metadata": {},
   "source": [
    "Let's split our training and validation data into 70% and 30% ratio respectively.   "
   ]
  },
  {
   "cell_type": "code",
   "execution_count": null,
   "id": "a76067a2",
   "metadata": {},
   "outputs": [],
   "source": [
    "from sklearn.model_selection import train_test_split\n",
    "\n",
    "X_train, X_val, y_train, y_val = train_test_split(X, y, test_size = 0.30)"
   ]
  },
  {
   "cell_type": "markdown",
   "id": "7b51c189",
   "metadata": {},
   "source": [
    "Now that the data has been split, let's import the (SVM) classification model, and train the algorithm with our X and y"
   ]
  },
  {
   "cell_type": "code",
   "execution_count": 25,
   "id": "f2d67749",
   "metadata": {},
   "outputs": [],
   "source": [
    "from sklearn import svm.SVC\n",
    "\n",
    "model = SVC(C = 1, kernel = \"linear\", probability = True )\n",
    "model.fit(X_train, y_train)"
   ]
  },
  {
   "cell_type": "markdown",
   "id": "c0d36e9f",
   "metadata": {},
   "source": [
    "Now, let's pass the validation data to the stored algorithm to predict the outcome"
   ]
  },
  {
   "cell_type": "code",
   "execution_count": 27,
   "id": "9b65feaf",
   "metadata": {},
   "outputs": [],
   "source": [
    "y_pred = model.predict(X_val)"
   ]
  },
  {
   "cell_type": "code",
   "execution_count": 28,
   "id": "abfb709c",
   "metadata": {},
   "outputs": [
    {
     "data": {
      "text/plain": [
       "array([0, 2, 0, 1, 2])"
      ]
     },
     "execution_count": 28,
     "metadata": {},
     "output_type": "execute_result"
    }
   ],
   "source": [
    "y_pred[:5]"
   ]
  },
  {
   "cell_type": "markdown",
   "id": "7e0560c1",
   "metadata": {},
   "source": [
    "#### Evaluation\n",
    "\n",
    "We wiil check the accuracy of our model by ..."
   ]
  },
  {
   "cell_type": "code",
   "execution_count": null,
   "id": "690e10d8",
   "metadata": {},
   "outputs": [],
   "source": [
    "\n",
    "from sklearn.metrics import accuracy_score"
   ]
  },
  {
   "cell_type": "code",
   "execution_count": 29,
   "id": "b17adade",
   "metadata": {},
   "outputs": [
    {
     "name": "stdout",
     "output_type": "stream",
     "text": [
      "Accuracy:  96.66666666666667\n"
     ]
    }
   ],
   "source": [
    "print(\"Accuracy: \", metrics.accuracy_score(y_pred, y_val) * 100)"
   ]
  },
  {
   "cell_type": "markdown",
   "id": "8d347cd5",
   "metadata": {},
   "source": [
    "The accuracy of the SVM model is 96.7%, which is great."
   ]
  },
  {
   "cell_type": "code",
   "execution_count": 9,
   "id": "f19bca48",
   "metadata": {},
   "outputs": [],
   "source": [
    "\n",
    "from sklearn.metrics import confusion_matrix"
   ]
  },
  {
   "cell_type": "code",
   "execution_count": 31,
   "id": "2f4ffbf0",
   "metadata": {},
   "outputs": [],
   "source": [
    "import pickle"
   ]
  },
  {
   "cell_type": "code",
   "execution_count": 32,
   "id": "dadfc3a2",
   "metadata": {},
   "outputs": [],
   "source": [
    "dict_filename = 'model_building_steps.pkl'\n",
    "data = {'le': le, 'model': model, 'scaler': scaler}\n",
    "\n",
    "with open('model_building_steps.pkl', 'wb') as file:\n",
    "    pickle.dump(data, file)"
   ]
  },
  {
   "cell_type": "code",
   "execution_count": 33,
   "id": "6d8b126e",
   "metadata": {},
   "outputs": [
    {
     "data": {
      "text/plain": [
       "SVC(C=1, kernel='linear', probability=True)"
      ]
     },
     "execution_count": 33,
     "metadata": {},
     "output_type": "execute_result"
    }
   ],
   "source": [
    "model = data['model']\n",
    "model"
   ]
  },
  {
   "cell_type": "code",
   "execution_count": 34,
   "id": "ea6122b8",
   "metadata": {},
   "outputs": [],
   "source": [
    "Features = np.array([[5.1, 3.5, 1.4, 0.2]])\n",
    "Features = scaler.transform(Features)\n",
    "Prediction = model.predict(Features)"
   ]
  },
  {
   "cell_type": "code",
   "execution_count": 35,
   "id": "d7c24b61",
   "metadata": {},
   "outputs": [
    {
     "data": {
      "text/plain": [
       "array([0])"
      ]
     },
     "execution_count": 35,
     "metadata": {},
     "output_type": "execute_result"
    }
   ],
   "source": [
    "Prediction"
   ]
  },
  {
   "cell_type": "code",
   "execution_count": null,
   "id": "8eec6559",
   "metadata": {},
   "outputs": [],
   "source": []
  }
 ],
 "metadata": {
  "kernelspec": {
   "display_name": "Python 3 (ipykernel)",
   "language": "python",
   "name": "python3"
  },
  "language_info": {
   "codemirror_mode": {
    "name": "ipython",
    "version": 3
   },
   "file_extension": ".py",
   "mimetype": "text/x-python",
   "name": "python",
   "nbconvert_exporter": "python",
   "pygments_lexer": "ipython3",
   "version": "3.9.7"
  }
 },
 "nbformat": 4,
 "nbformat_minor": 5
}
